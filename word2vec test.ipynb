{
 "cells": [
  {
   "cell_type": "markdown",
   "metadata": {},
   "source": [
    "# LOAD DATA"
   ]
  },
  {
   "cell_type": "code",
   "execution_count": 2,
   "metadata": {},
   "outputs": [],
   "source": [
    "import pandas as pd\n",
    "import ast"
   ]
  },
  {
   "cell_type": "code",
   "execution_count": 3,
   "metadata": {},
   "outputs": [],
   "source": [
    "dataframe = pd.read_csv('data/xiami/dataframe.csv')"
   ]
  },
  {
   "cell_type": "code",
   "execution_count": null,
   "metadata": {},
   "outputs": [],
   "source": [
    "dataframe['song_ids_order'] = dataframe['song_ids_order'].apply(ast.literal_eval)"
   ]
  },
  {
   "cell_type": "code",
   "execution_count": null,
   "metadata": {},
   "outputs": [],
   "source": [
    "# min 2 itens para input\n",
    "# 1 item para recomendacao\n",
    "# 1 item para avaliacao\n",
    "\n",
    "dataframe = dataframe[dataframe['length'] > 3]"
   ]
  },
  {
   "cell_type": "code",
   "execution_count": null,
   "metadata": {},
   "outputs": [],
   "source": [
    "dataframe['last_item'] = dataframe['song_ids_order'].apply(lambda x: x.pop() if len(x) > 0 else None)"
   ]
  },
  {
   "cell_type": "code",
   "execution_count": null,
   "metadata": {},
   "outputs": [],
   "source": [
    "all_songs = set([item for sublist in dataframe['song_ids_order'] for item in sublist])"
   ]
  },
  {
   "cell_type": "code",
   "execution_count": null,
   "metadata": {},
   "outputs": [],
   "source": [
    "dataframe = dataframe[dataframe['last_item'].isin(all_songs)]"
   ]
  },
  {
   "cell_type": "code",
   "execution_count": null,
   "metadata": {},
   "outputs": [],
   "source": [
    "sequences = dataframe['song_ids_order']"
   ]
  },
  {
   "cell_type": "markdown",
   "metadata": {},
   "source": [
    "# MODEL"
   ]
  },
  {
   "cell_type": "code",
   "execution_count": null,
   "metadata": {},
   "outputs": [],
   "source": [
    "from gensim.models.callbacks import CallbackAny2Vec\n",
    "\n",
    "class EpochLogger(CallbackAny2Vec):\n",
    "    '''Callback para registrar a perda após cada época.'''\n",
    "    def __init__(self):\n",
    "        self.epoch = 0\n",
    "        self.loss_previous_step = 0\n",
    "        self.losses = []\n",
    "\n",
    "    def on_epoch_end(self, model):\n",
    "        loss = model.get_latest_training_loss()\n",
    "        loss_now = loss - self.loss_previous_step\n",
    "        self.loss_previous_step = loss\n",
    "        self.losses.append(loss_now)\n",
    "        print(f'Perda após época {self.epoch}: {loss_now}')\n",
    "        self.epoch += 1\n",
    "\n",
    "epoch_logger = EpochLogger()\n",
    "\n",
    "class EarlyStoppingCallback(CallbackAny2Vec):\n",
    "    '''Callback para early stopping baseado em uma melhoria percentual na perda.'''\n",
    "    def __init__(self, epoch_logger, patience=3, min_percent_improvement=0.01):\n",
    "        self.epoch_logger = epoch_logger\n",
    "        self.patience = patience  # número de épocas sem melhoria\n",
    "        self.min_percent_improvement = min_percent_improvement  # percentual mínimo de melhoria\n",
    "        self.best_loss = float('inf')  # inicializar com um valor alto\n",
    "        self.counter = 0  # contar épocas sem melhoria\n",
    "\n",
    "    def on_epoch_end(self, model):\n",
    "        loss_now = self.epoch_logger.losses[-1]  # Obter a última perda registrada pelo EpochLogger\n",
    "        \n",
    "        # Checar se houve uma melhoria percentual significativa\n",
    "        if self.best_loss == float('inf'):\n",
    "            improvement = float('inf')\n",
    "        else:\n",
    "            improvement = (self.best_loss - loss_now) / self.best_loss\n",
    "\n",
    "        print(f'Melhoria percentual: {improvement * 100:.2f}%')\n",
    "\n",
    "        if improvement > self.min_percent_improvement:\n",
    "            self.best_loss = loss_now\n",
    "            self.counter = 0  # Resetar o contador de épocas sem melhoria\n",
    "        else:\n",
    "            self.counter += 1\n",
    "            print(f'Early stopping counter: {self.counter}/{self.patience}')\n",
    "            \n",
    "            # Parar se o número de épocas sem melhoria exceder a paciência\n",
    "            if self.counter >= self.patience:\n",
    "                print(f'Early stopping ativado na época {self.epoch_logger.epoch}')\n",
    "                model.running_training = False  # Isso interrompe o treinamento\n",
    "\n",
    "early_stopping = EarlyStoppingCallback(epoch_logger=epoch_logger, patience=3, min_percent_improvement=0.01)"
   ]
  },
  {
   "cell_type": "code",
   "execution_count": 10,
   "metadata": {},
   "outputs": [
    {
     "name": "stdout",
     "output_type": "stream",
     "text": [
      "Perda após época 0: 12143144.0\n",
      "Melhoria percentual: inf%\n",
      "Perda após época 1: 6610376.0\n",
      "Melhoria percentual: 45.56%\n",
      "Perda após época 2: 5431748.0\n",
      "Melhoria percentual: 17.83%\n",
      "Perda após época 3: 4856114.0\n",
      "Melhoria percentual: 10.60%\n",
      "Perda após época 4: 4365920.0\n",
      "Melhoria percentual: 10.09%\n",
      "Perda após época 5: 2710458.0\n",
      "Melhoria percentual: 37.92%\n",
      "Perda após época 6: 2392868.0\n",
      "Melhoria percentual: 11.72%\n",
      "Perda após época 7: 2127452.0\n",
      "Melhoria percentual: 11.09%\n",
      "Perda após época 8: 2081976.0\n",
      "Melhoria percentual: 2.14%\n",
      "Perda após época 9: 1936384.0\n",
      "Melhoria percentual: 6.99%\n",
      "Perda após época 10: 1832816.0\n",
      "Melhoria percentual: 5.35%\n",
      "Perda após época 11: 1787104.0\n",
      "Melhoria percentual: 2.49%\n",
      "Perda após época 12: 1742392.0\n",
      "Melhoria percentual: 2.50%\n",
      "Perda após época 13: 1698408.0\n",
      "Melhoria percentual: 2.52%\n",
      "Perda após época 14: 1715368.0\n",
      "Melhoria percentual: -1.00%\n",
      "Early stopping counter: 1/3\n",
      "Perda após época 15: 1673120.0\n",
      "Melhoria percentual: 1.49%\n",
      "Perda após época 16: 1609588.0\n",
      "Melhoria percentual: 3.80%\n",
      "Perda após época 17: 1620104.0\n",
      "Melhoria percentual: -0.65%\n",
      "Early stopping counter: 1/3\n",
      "Perda após época 18: 1654384.0\n",
      "Melhoria percentual: -2.78%\n",
      "Early stopping counter: 2/3\n",
      "Perda após época 19: 1666372.0\n",
      "Melhoria percentual: -3.53%\n",
      "Early stopping counter: 3/3\n",
      "Early stopping ativado na época 20\n"
     ]
    }
   ],
   "source": [
    "from gensim.models import Word2Vec\n",
    "\n",
    "model = Word2Vec(\n",
    "    sequences,\n",
    "    vector_size=128,\n",
    "    window=5,\n",
    "    min_count=1,\n",
    "    workers=4,\n",
    "    sg=1,\n",
    "    negative=10,\n",
    "    epochs=25,\n",
    "    sample=0.001,\n",
    "    alpha=0.03,\n",
    "    min_alpha=0.0007,\n",
    "    compute_loss=True,\n",
    "    callbacks=[epoch_logger, early_stopping]\n",
    ")"
   ]
  },
  {
   "cell_type": "code",
   "execution_count": 12,
   "metadata": {},
   "outputs": [
    {
     "data": {
      "image/png": "[encoded data removed]",
      "text/plain": [
       "<Figure size 1000x600 with 1 Axes>"
      ]
     },
     "metadata": {},
     "output_type": "display_data"
    }
   ],
   "source": [
    "import matplotlib.pyplot as plt\n",
    "\n",
    "losses = epoch_logger.losses\n",
    "\n",
    "plt.figure(figsize=(10, 6))\n",
    "plt.plot(range(1, len(losses) + 1), losses, marker='o')\n",
    "plt.xlabel('Épocas')\n",
    "plt.ylabel('Perda')\n",
    "plt.title('Perda de Treinamento por Época')\n",
    "plt.xticks(range(1, len(losses) + 1))\n",
    "plt.grid(True)\n",
    "plt.show()"
   ]
  },
  {
   "cell_type": "code",
   "execution_count": 14,
   "metadata": {},
   "outputs": [],
   "source": [
    "import pandas as pd\n",
    "import numpy as np\n",
    "\n",
    "def get_average_embedding(song_ids, model):\n",
    "    embeddings = []\n",
    "    for song_id in song_ids:\n",
    "        song_id_str = str(song_id)  # Converte para string se necessário\n",
    "        if song_id_str in model.wv:\n",
    "            embeddings.append(model.wv[song_id_str])\n",
    "        else:\n",
    "            # Opcional: Trate IDs desconhecidos conforme necessário\n",
    "            pass\n",
    "    if embeddings:\n",
    "        # Calcula a média dos embeddings\n",
    "        avg_embedding = np.mean(embeddings, axis=0)\n",
    "        return avg_embedding\n",
    "    else:\n",
    "        # Retorna um vetor de zeros se nenhum embedding foi encontrado\n",
    "        return np.zeros(model.vector_size)\n",
    "\n",
    "# Aplicar a função ao dataframe\n",
    "dataframe['average_embedding'] = dataframe['song_ids_order'].apply(lambda x: get_average_embedding(x, model))"
   ]
  },
  {
   "cell_type": "code",
   "execution_count": 31,
   "metadata": {},
   "outputs": [],
   "source": [
    "import numpy as np\n",
    "import faiss\n",
    "\n",
    "# Extrair os IDs das músicas e seus embeddings\n",
    "song_ids = list(model.wv.index_to_key)\n",
    "embeddings = np.array([model.wv[song_id] for song_id in song_ids]).astype('float32')"
   ]
  },
  {
   "cell_type": "code",
   "execution_count": 32,
   "metadata": {},
   "outputs": [],
   "source": [
    "embeddings = embeddings / np.linalg.norm(embeddings, axis=1, keepdims=True)"
   ]
  },
  {
   "cell_type": "code",
   "execution_count": 33,
   "metadata": {},
   "outputs": [],
   "source": [
    "dimension = embeddings.shape[1]\n",
    "index = faiss.IndexFlatIP(dimension)  # Usando Inner Product para similaridade cosseno\n",
    "index.add(embeddings)"
   ]
  },
  {
   "cell_type": "code",
   "execution_count": 35,
   "metadata": {},
   "outputs": [],
   "source": [
    "average_embeddings = np.stack(dataframe['average_embedding'].values).astype('float32')\n",
    "average_embeddings = average_embeddings / np.linalg.norm(average_embeddings, axis=1, keepdims=True)"
   ]
  },
  {
   "cell_type": "code",
   "execution_count": 36,
   "metadata": {},
   "outputs": [],
   "source": [
    "k = 10  # Número de vizinhos mais próximos\n",
    "distances, indices = index.search(average_embeddings, k)"
   ]
  },
  {
   "cell_type": "code",
   "execution_count": 37,
   "metadata": {},
   "outputs": [],
   "source": [
    "similar_song_ids = [[song_ids[idx] for idx in neighbors] for neighbors in indices]\n",
    "dataframe['similar_song_ids'] = similar_song_ids"
   ]
  },
  {
   "cell_type": "code",
   "execution_count": 39,
   "metadata": {},
   "outputs": [],
   "source": [
    "def check_last_item_in_similar(row):\n",
    "    last_item = str(row['last_item'])  # Garantir que 'last_item' seja uma string\n",
    "    similar_ids = row['similar_song_ids']\n",
    "    return last_item in similar_ids\n",
    "\n",
    "# Aplicar a função ao dataframe\n",
    "dataframe['is_last_item_in_similar'] = dataframe.apply(check_last_item_in_similar, axis=1)"
   ]
  },
  {
   "cell_type": "code",
   "execution_count": 42,
   "metadata": {},
   "outputs": [
    {
     "data": {
      "text/plain": [
       "is_last_item_in_similar\n",
       "False    133243\n",
       "True      40180\n",
       "dtype: int64"
      ]
     },
     "execution_count": 42,
     "metadata": {},
     "output_type": "execute_result"
    }
   ],
   "source": [
    "dataframe.groupby('is_last_item_in_similar').size()"
   ]
  },
  {
   "cell_type": "code",
   "execution_count": null,
   "metadata": {},
   "outputs": [],
   "source": []
  }
 ],
 "metadata": {
  "kernelspec": {
   "display_name": "Python rapids",
   "language": "python",
   "name": "rapids-24.10"
  },
  "language_info": {
   "codemirror_mode": {
    "name": "ipython",
    "version": 3
   },
   "file_extension": ".py",
   "mimetype": "text/x-python",
   "name": "python",
   "nbconvert_exporter": "python",
   "pygments_lexer": "ipython3",
   "version": "3.12.7"
  }
 },
 "nbformat": 4,
 "nbformat_minor": 2
}
