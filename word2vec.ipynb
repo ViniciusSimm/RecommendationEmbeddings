{
 "cells": [
  {
   "cell_type": "markdown",
   "metadata": {},
   "source": [
    "# LOAD DATA"
   ]
  },
  {
   "cell_type": "code",
   "execution_count": 1,
   "metadata": {},
   "outputs": [
    {
     "name": "stderr",
     "output_type": "stream",
     "text": [
      "d:\\Mestrado\\embedding_venv\\Lib\\site-packages\\tqdm\\auto.py:21: TqdmWarning: IProgress not found. Please update jupyter and ipywidgets. See https://ipywidgets.readthedocs.io/en/stable/user_install.html\n",
      "  from .autonotebook import tqdm as notebook_tqdm\n"
     ]
    }
   ],
   "source": [
    "import pandas as pd\n",
    "import optuna\n",
    "import numpy as np\n",
    "import faiss\n",
    "from gensim.models import Word2Vec\n",
    "from gensim.models.callbacks import CallbackAny2Vec\n",
    "import ast"
   ]
  },
  {
   "cell_type": "code",
   "execution_count": 2,
   "metadata": {},
   "outputs": [],
   "source": [
    "dataframe = pd.read_csv('data/xiami/dataframe.csv')"
   ]
  },
  {
   "cell_type": "code",
   "execution_count": 3,
   "metadata": {},
   "outputs": [],
   "source": [
    "dataframe['song_ids_order'] = dataframe['song_ids_order'].apply(ast.literal_eval)"
   ]
  },
  {
   "cell_type": "code",
   "execution_count": 4,
   "metadata": {},
   "outputs": [],
   "source": [
    "# min 2 itens para input\n",
    "# 1 item para recomendacao\n",
    "# 1 item para avaliacao\n",
    "\n",
    "dataframe = dataframe[dataframe['length'] > 3]"
   ]
  },
  {
   "cell_type": "code",
   "execution_count": 5,
   "metadata": {},
   "outputs": [],
   "source": [
    "dataframe['last_item'] = dataframe['song_ids_order'].apply(lambda x: x.pop() if len(x) > 0 else None)"
   ]
  },
  {
   "cell_type": "code",
   "execution_count": 6,
   "metadata": {},
   "outputs": [],
   "source": [
    "all_songs = set([item for sublist in dataframe['song_ids_order'] for item in sublist])"
   ]
  },
  {
   "cell_type": "code",
   "execution_count": 7,
   "metadata": {},
   "outputs": [],
   "source": [
    "dataframe = dataframe[dataframe['last_item'].isin(all_songs)]"
   ]
  },
  {
   "cell_type": "code",
   "execution_count": 8,
   "metadata": {},
   "outputs": [],
   "source": [
    "sequences = dataframe['song_ids_order']"
   ]
  },
  {
   "cell_type": "markdown",
   "metadata": {},
   "source": [
    "# MODEL"
   ]
  },
  {
   "cell_type": "code",
   "execution_count": 9,
   "metadata": {},
   "outputs": [],
   "source": [
    "from gensim.models.callbacks import CallbackAny2Vec\n",
    "\n",
    "class EpochLogger(CallbackAny2Vec):\n",
    "    '''Callback para registrar a perda após cada época.'''\n",
    "    def __init__(self):\n",
    "        self.epoch = 0\n",
    "        self.loss_previous_step = 0\n",
    "        self.losses = []\n",
    "\n",
    "    def on_epoch_end(self, model):\n",
    "        loss = model.get_latest_training_loss()\n",
    "        loss_now = loss - self.loss_previous_step\n",
    "        self.loss_previous_step = loss\n",
    "        self.losses.append(loss_now)\n",
    "        print(f'Perda após época {self.epoch}: {loss_now}')\n",
    "        self.epoch += 1\n",
    "\n",
    "# epoch_logger = EpochLogger()\n",
    "\n",
    "class EarlyStoppingCallback(CallbackAny2Vec):\n",
    "    '''Callback para early stopping baseado em uma melhoria percentual na perda.'''\n",
    "    def __init__(self, epoch_logger, patience=3, min_percent_improvement=0.01):\n",
    "        self.epoch_logger = epoch_logger\n",
    "        self.patience = patience  # número de épocas sem melhoria\n",
    "        self.min_percent_improvement = min_percent_improvement  # percentual mínimo de melhoria\n",
    "        self.best_loss = float('inf')  # inicializar com um valor alto\n",
    "        self.counter = 0  # contar épocas sem melhoria\n",
    "\n",
    "    def on_epoch_end(self, model):\n",
    "        loss_now = self.epoch_logger.losses[-1]  # Obter a última perda registrada pelo EpochLogger\n",
    "        \n",
    "        # Checar se houve uma melhoria percentual significativa\n",
    "        if self.best_loss == float('inf'):\n",
    "            improvement = float('inf')\n",
    "        else:\n",
    "            improvement = (self.best_loss - loss_now) / self.best_loss\n",
    "\n",
    "        print(f'Melhoria percentual: {improvement * 100:.2f}%')\n",
    "\n",
    "        if improvement > self.min_percent_improvement:\n",
    "            self.best_loss = loss_now\n",
    "            self.counter = 0  # Resetar o contador de épocas sem melhoria\n",
    "        else:\n",
    "            self.counter += 1\n",
    "            print(f'Early stopping counter: {self.counter}/{self.patience}')\n",
    "            \n",
    "            # Parar se o número de épocas sem melhoria exceder a paciência\n",
    "            if self.counter >= self.patience:\n",
    "                print(f'Early stopping ativado na época {self.epoch_logger.epoch}')\n",
    "                model.running_training = False  # Isso interrompe o treinamento\n",
    "\n",
    "# early_stopping = EarlyStoppingCallback(epoch_logger=epoch_logger, patience=3, min_percent_improvement=0.01)"
   ]
  },
  {
   "cell_type": "code",
   "execution_count": 10,
   "metadata": {},
   "outputs": [],
   "source": [
    "from gensim.models import Word2Vec\n",
    "\n",
    "def objective(trial):\n",
    "\n",
    "    epoch_logger = EpochLogger()\n",
    "    early_stopping = EarlyStoppingCallback(epoch_logger=epoch_logger, patience=3, min_percent_improvement=0.01)\n",
    "\n",
    "    # Hiperparâmetros que serão ajustados\n",
    "    vector_size = trial.suggest_categorical('vector_size', [64, 128, 256, 512])\n",
    "    window = trial.suggest_int('window', 3, 10)\n",
    "    alpha = trial.suggest_float('alpha', 1e-4, 1e-1, log=True)\n",
    "    min_alpha = trial.suggest_float('min_alpha', 1e-4, 1e-2, log=True)\n",
    "    negative = trial.suggest_int('negative', 5, 20)\n",
    "    \n",
    "    # Treinamento do modelo Word2Vec\n",
    "    model = Word2Vec(\n",
    "        sequences,\n",
    "        vector_size=vector_size,\n",
    "        window=window,\n",
    "        min_count=1,\n",
    "        workers=4,\n",
    "        sg=1,\n",
    "        negative=negative,\n",
    "        epochs=20,\n",
    "        sample=0.001,\n",
    "        alpha=alpha,\n",
    "        min_alpha=min_alpha,\n",
    "        compute_loss=True,\n",
    "        callbacks=[epoch_logger, early_stopping]  # Callback para log\n",
    "    )\n",
    "\n",
    "    # Processo para identificar o score final (substitua pelo seu método)\n",
    "    score = calcular_score_final(model, dataframe)\n",
    "    \n",
    "    return score"
   ]
  },
  {
   "cell_type": "code",
   "execution_count": 11,
   "metadata": {},
   "outputs": [],
   "source": [
    "def get_average_embedding(song_ids, model):\n",
    "    embeddings = []\n",
    "    for song_id in song_ids:\n",
    "        song_id_str = str(song_id)\n",
    "        if song_id_str in model.wv:\n",
    "            embeddings.append(model.wv[song_id_str])\n",
    "    if embeddings:\n",
    "        return np.mean(embeddings, axis=0)\n",
    "    else:\n",
    "        return np.zeros(model.vector_size)"
   ]
  },
  {
   "cell_type": "code",
   "execution_count": 12,
   "metadata": {},
   "outputs": [],
   "source": [
    "def check_last_item_in_similar(row):\n",
    "    last_item = str(row['last_item'])\n",
    "    similar_ids = row['similar_song_ids']\n",
    "    return last_item in similar_ids"
   ]
  },
  {
   "cell_type": "code",
   "execution_count": 13,
   "metadata": {},
   "outputs": [],
   "source": [
    "def calcular_score_final(model, dataframe):\n",
    "    # Gerar embeddings médios\n",
    "    dataframe['average_embedding'] = dataframe['song_ids_order'].apply(lambda x: get_average_embedding(x, model))\n",
    "    \n",
    "    # Preparar embeddings para comparação\n",
    "    song_ids = list(model.wv.index_to_key)\n",
    "    embeddings = np.array([model.wv[song_id] for song_id in song_ids]).astype('float32')\n",
    "    embeddings = embeddings / np.linalg.norm(embeddings, axis=1, keepdims=True)\n",
    "    \n",
    "    dimension = embeddings.shape[1]\n",
    "    index = faiss.IndexFlatIP(dimension)  # Usando Inner Product para similaridade cosseno\n",
    "    index.add(embeddings)\n",
    "    \n",
    "    average_embeddings = np.stack(dataframe['average_embedding'].values).astype('float32')\n",
    "    average_embeddings = average_embeddings / np.linalg.norm(average_embeddings, axis=1, keepdims=True)\n",
    "    \n",
    "    k = 10\n",
    "    distances, indices = index.search(average_embeddings, k)\n",
    "    similar_song_ids = [[song_ids[idx] for idx in neighbors] for neighbors in indices]\n",
    "    dataframe['similar_song_ids'] = similar_song_ids\n",
    "    \n",
    "    dataframe['is_last_item_in_similar'] = dataframe.apply(check_last_item_in_similar, axis=1)\n",
    "\n",
    "    counts = dataframe.groupby('is_last_item_in_similar').size()\n",
    "\n",
    "    if True in counts:\n",
    "        # Calcular a porcentagem de True\n",
    "        percentage_true = (counts[True] / counts.sum()) * 100\n",
    "    else:\n",
    "        # Se não houver nenhum True, a porcentagem é 0\n",
    "        percentage_true = 0\n",
    "\n",
    "    return percentage_true"
   ]
  },
  {
   "cell_type": "markdown",
   "metadata": {},
   "source": [
    "# FIND BEST PARAMETERS"
   ]
  },
  {
   "cell_type": "code",
   "execution_count": 14,
   "metadata": {},
   "outputs": [
    {
     "name": "stderr",
     "output_type": "stream",
     "text": [
      "[I 2024-10-01 21:36:12,469] A new study created in memory with name: no-name-2bd4a8f7-e36d-45aa-bd12-1d80ab6ed667\n"
     ]
    },
    {
     "name": "stdout",
     "output_type": "stream",
     "text": [
      "Perda após época 0: 16777870.0\n",
      "Melhoria percentual: inf%\n",
      "Perda após época 1: 287274.0\n",
      "Melhoria percentual: 98.29%\n",
      "Perda após época 2: 2179998.0\n",
      "Melhoria percentual: -658.86%\n",
      "Early stopping counter: 1/3\n",
      "Perda após época 3: 3584254.0\n",
      "Melhoria percentual: -1147.68%\n",
      "Early stopping counter: 2/3\n",
      "Perda após época 4: 4144092.0\n",
      "Melhoria percentual: -1342.56%\n",
      "Early stopping counter: 3/3\n",
      "Early stopping ativado na época 5\n",
      "Perda após época 5: 4488724.0\n",
      "Melhoria percentual: -1462.52%\n",
      "Early stopping counter: 4/3\n",
      "Early stopping ativado na época 6\n",
      "Perda após época 6: 3204336.0\n",
      "Melhoria percentual: -1015.43%\n",
      "Early stopping counter: 5/3\n",
      "Early stopping ativado na época 7\n",
      "Perda após época 7: 2105536.0\n",
      "Melhoria percentual: -632.94%\n",
      "Early stopping counter: 6/3\n",
      "Early stopping ativado na época 8\n",
      "Perda após época 8: 2174356.0\n",
      "Melhoria percentual: -656.89%\n",
      "Early stopping counter: 7/3\n",
      "Early stopping ativado na época 9\n",
      "Perda após época 9: 2193588.0\n",
      "Melhoria percentual: -663.59%\n",
      "Early stopping counter: 8/3\n",
      "Early stopping ativado na época 10\n",
      "Perda após época 10: 2182944.0\n",
      "Melhoria percentual: -659.88%\n",
      "Early stopping counter: 9/3\n",
      "Early stopping ativado na época 11\n",
      "Perda após época 11: 2199332.0\n",
      "Melhoria percentual: -665.59%\n",
      "Early stopping counter: 10/3\n",
      "Early stopping ativado na época 12\n",
      "Perda após época 12: 2211896.0\n",
      "Melhoria percentual: -669.96%\n",
      "Early stopping counter: 11/3\n",
      "Early stopping ativado na época 13\n",
      "Perda após época 13: 2212820.0\n",
      "Melhoria percentual: -670.28%\n",
      "Early stopping counter: 12/3\n",
      "Early stopping ativado na época 14\n",
      "Perda após época 14: 2189644.0\n",
      "Melhoria percentual: -662.21%\n",
      "Early stopping counter: 13/3\n",
      "Early stopping ativado na época 15\n",
      "Perda após época 15: 2152708.0\n",
      "Melhoria percentual: -649.36%\n",
      "Early stopping counter: 14/3\n",
      "Early stopping ativado na época 16\n",
      "Perda após época 16: 2093824.0\n",
      "Melhoria percentual: -628.86%\n",
      "Early stopping counter: 15/3\n",
      "Early stopping ativado na época 17\n",
      "Perda após época 17: 2080568.0\n",
      "Melhoria percentual: -624.25%\n",
      "Early stopping counter: 16/3\n",
      "Early stopping ativado na época 18\n",
      "Perda após época 18: 2052824.0\n",
      "Melhoria percentual: -614.59%\n",
      "Early stopping counter: 17/3\n",
      "Early stopping ativado na época 19\n",
      "Perda após época 19: 2040540.0\n",
      "Melhoria percentual: -610.31%\n",
      "Early stopping counter: 18/3\n",
      "Early stopping ativado na época 20\n"
     ]
    },
    {
     "name": "stderr",
     "output_type": "stream",
     "text": [
      "[I 2024-10-01 21:46:04,173] Trial 0 finished with value: 18.499852960679956 and parameters: {'vector_size': 128, 'window': 3, 'alpha': 0.0008029676977200852, 'min_alpha': 0.002164588362090582, 'negative': 7}. Best is trial 0 with value: 18.499852960679956.\n"
     ]
    },
    {
     "name": "stdout",
     "output_type": "stream",
     "text": [
      "Perda após época 0: 7424664.5\n",
      "Melhoria percentual: inf%\n",
      "Perda após época 1: 4664341.5\n",
      "Melhoria percentual: 37.18%\n",
      "Perda após época 2: 3853785.0\n",
      "Melhoria percentual: 17.38%\n",
      "Perda após época 3: 3139513.0\n",
      "Melhoria percentual: 18.53%\n",
      "Perda após época 4: 2720210.0\n",
      "Melhoria percentual: 13.36%\n",
      "Perda após época 5: 2545284.0\n",
      "Melhoria percentual: 6.43%\n",
      "Perda após época 6: 2427958.0\n",
      "Melhoria percentual: 4.61%\n",
      "Perda após época 7: 2305262.0\n",
      "Melhoria percentual: 5.05%\n",
      "Perda após época 8: 2235068.0\n",
      "Melhoria percentual: 3.04%\n",
      "Perda após época 9: 2188452.0\n",
      "Melhoria percentual: 2.09%\n",
      "Perda após época 10: 1633586.0\n",
      "Melhoria percentual: 25.35%\n",
      "Perda após época 11: 1514016.0\n",
      "Melhoria percentual: 7.32%\n",
      "Perda após época 12: 1532692.0\n",
      "Melhoria percentual: -1.23%\n",
      "Early stopping counter: 1/3\n",
      "Perda após época 13: 1490204.0\n",
      "Melhoria percentual: 1.57%\n",
      "Perda após época 14: 1441612.0\n",
      "Melhoria percentual: 3.26%\n",
      "Perda após época 15: 1474328.0\n",
      "Melhoria percentual: -2.27%\n",
      "Early stopping counter: 1/3\n",
      "Perda após época 16: 1440212.0\n",
      "Melhoria percentual: 0.10%\n",
      "Early stopping counter: 2/3\n",
      "Perda após época 17: 1405012.0\n",
      "Melhoria percentual: 2.54%\n",
      "Perda após época 18: 1383964.0\n",
      "Melhoria percentual: 1.50%\n",
      "Perda após época 19: 1373796.0\n",
      "Melhoria percentual: 0.73%\n",
      "Early stopping counter: 1/3\n"
     ]
    },
    {
     "name": "stderr",
     "output_type": "stream",
     "text": [
      "[I 2024-10-01 21:59:07,413] Trial 1 finished with value: 23.477854725151797 and parameters: {'vector_size': 128, 'window': 4, 'alpha': 0.09543064176073654, 'min_alpha': 0.0010227024711055926, 'negative': 12}. Best is trial 1 with value: 23.477854725151797.\n"
     ]
    },
    {
     "name": "stdout",
     "output_type": "stream",
     "text": [
      "Melhores hiperparâmetros:  {'vector_size': 128, 'window': 4, 'alpha': 0.09543064176073654, 'min_alpha': 0.0010227024711055926, 'negative': 12}\n"
     ]
    }
   ],
   "source": [
    "study = optuna.create_study(direction='maximize')\n",
    "study.optimize(objective, n_trials=2)\n",
    "\n",
    "print(\"Melhores hiperparâmetros: \", study.best_params)"
   ]
  },
  {
   "cell_type": "code",
   "execution_count": null,
   "metadata": {},
   "outputs": [],
   "source": []
  }
 ],
 "metadata": {
  "kernelspec": {
   "display_name": "embedding_venv",
   "language": "python",
   "name": "python3"
  },
  "language_info": {
   "codemirror_mode": {
    "name": "ipython",
    "version": 3
   },
   "file_extension": ".py",
   "mimetype": "text/x-python",
   "name": "python",
   "nbconvert_exporter": "python",
   "pygments_lexer": "ipython3",
   "version": "3.12.6"
  }
 },
 "nbformat": 4,
 "nbformat_minor": 2
}
